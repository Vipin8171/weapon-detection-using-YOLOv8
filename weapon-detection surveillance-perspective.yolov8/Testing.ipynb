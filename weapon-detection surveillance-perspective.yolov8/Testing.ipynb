{
 "cells": [
  {
   "cell_type": "code",
   "execution_count": 2,
   "id": "a6c86a39-41d4-4459-ab56-467fce0cffef",
   "metadata": {},
   "outputs": [
    {
     "name": "stdout",
     "output_type": "stream",
     "text": [
      "CUDA Available:  True\n",
      "Num GPUs Available:  1\n",
      "GPU Name:  NVIDIA GeForce RTX 4060 Laptop GPU\n",
      "PyTorch Version:  2.6.0+cu126\n"
     ]
    }
   ],
   "source": [
    "import torch\n",
    "\n",
    "# Check if CUDA is available\n",
    "cuda_available = torch.cuda.is_available()\n",
    "print(\"CUDA Available: \", cuda_available)\n",
    "\n",
    "# If CUDA is available, check the number of GPUs\n",
    "if cuda_available:\n",
    "    print(\"Num GPUs Available: \", torch.cuda.device_count())\n",
    "\n",
    "    # Print the name of the GPU\n",
    "    print(\"GPU Name: \", torch.cuda.get_device_name(0))\n",
    "else:\n",
    "    print(\"CUDA is not available. Please check your setup.\")\n",
    "\n",
    "# Print the PyTorch version\n",
    "print(\"PyTorch Version: \", torch.__version__)\n"
   ]
  },
  {
   "cell_type": "code",
   "execution_count": 42,
   "id": "8df0e3dc-d4da-437a-a2a4-a7cc1b1a94b6",
   "metadata": {},
   "outputs": [],
   "source": [
    "from ultralytics import YOLO\n",
    "\n",
    "# Load the fine-tuned model\n",
    "model = YOLO('runs/detect/weapon_surveillance_ft/weights/best.pt')\n",
    "\n",
    "\n",
    "# Evaluate on the validation set (precision, recall, mAP, etc.)\n",
    "# metrics = model.val(data=r'weapon-detection.v4-surveillance-perspective.yolov8\\data.yaml')\n",
    "# metrics\n"
   ]
  },
  {
   "cell_type": "code",
   "execution_count": 44,
   "id": "96a5ea85-88e4-49e2-8cd8-db9afe5cef45",
   "metadata": {},
   "outputs": [],
   "source": [
    "import cv2\n",
    "from matplotlib import pyplot as plt\n",
    "\n",
    "def predict_on_image(image_path):\n",
    "    # Run prediction\n",
    "    results = model.predict(source=image_path, save=True, conf=0.25)  # Adjust conf threshold if needed\n",
    "    \n",
    "    # Load and display the image\n",
    "    img = cv2.imread(image_path)\n",
    "    img = cv2.cvtColor(img, cv2.COLOR_BGR2RGB)\n",
    "    \n",
    "    plt.figure(figsize=(10, 8))\n",
    "    plt.imshow(img)\n",
    "    plt.axis('off')\n",
    "    plt.title('Prediction Result')\n",
    "    plt.show()\n",
    "\n"
   ]
  },
  {
   "cell_type": "code",
   "execution_count": 62,
   "id": "e41fefdc-9865-480d-b24b-013525448a7c",
   "metadata": {},
   "outputs": [
    {
     "name": "stdout",
     "output_type": "stream",
     "text": [
      "\n",
      "image 1/1 C:\\Users\\tvipi\\project\\Weapon-Detection-YOLO with 4 data set\\2.jpg: 960x960 1 weapon, 310.0ms\n",
      "Speed: 11.2ms preprocess, 310.0ms inference, 2.1ms postprocess per image at shape (1, 3, 960, 960)\n",
      "Results saved to \u001b[1mruns\\detect\\predict3\u001b[0m\n"
     ]
    },
    {
     "data": {
      "text/plain": [
       "<Figure size 1000x800 with 1 Axes>"
      ]
     },
     "metadata": {},
     "output_type": "display_data"
    }
   ],
   "source": [
    "\n",
    "# Example usage\n",
    "predict_on_image('2.jpg')  # <<-- change this to your image file"
   ]
  },
  {
   "cell_type": "code",
   "execution_count": 62,
   "id": "96d28fe2-f359-4b99-b6cf-5819c75105b3",
   "metadata": {},
   "outputs": [
    {
     "name": "stdout",
     "output_type": "stream",
     "text": [
      "\n",
      "image 1/1 C:\\Users\\tvipi\\project\\Weapon-Detection-YOLO with 4 data set\\2.jpg: 960x960 1 weapon, 310.0ms\n",
      "Speed: 11.2ms preprocess, 310.0ms inference, 2.1ms postprocess per image at shape (1, 3, 960, 960)\n",
      "Results saved to \u001b[1mruns\\detect\\predict3\u001b[0m\n"
     ]
    },
    {
     "data": {
      "text/plain": [
       "<Figure size 1000x800 with 1 Axes>"
      ]
     },
     "metadata": {},
     "output_type": "display_data"
    }
   ],
   "source": [
    "\n",
    "# Example usage\n",
    "predict_on_image('1.jpg')  # <<-- change this to your image file"
   ]
  },
  {
   "cell_type": "code",
   "execution_count": 62,
   "id": "f9effe73-3f22-424c-8c1e-581b33218ae6",
   "metadata": {},
   "outputs": [
    {
     "name": "stdout",
     "output_type": "stream",
     "text": [
      "\n",
      "image 1/1 C:\\Users\\tvipi\\project\\Weapon-Detection-YOLO with 4 data set\\2.jpg: 960x960 1 weapon, 310.0ms\n",
      "Speed: 11.2ms preprocess, 310.0ms inference, 2.1ms postprocess per image at shape (1, 3, 960, 960)\n",
      "Results saved to \u001b[1mruns\\detect\\predict3\u001b[0m\n"
     ]
    },
    {
     "data": {
      "text/plain": [
       "<Figure size 1000x800 with 1 Axes>"
      ]
     },
     "metadata": {},
     "output_type": "display_data"
    }
   ],
   "source": [
    "\n",
    "# Example usage\n",
    "predict_on_image('.jpg')  # <<-- change this to your image file"
   ]
  },
  {
   "cell_type": "code",
   "execution_count": null,
   "id": "c3746184-850e-4644-82fd-9a4d30a633b6",
   "metadata": {},
   "outputs": [],
   "source": []
  },
  {
   "cell_type": "code",
   "execution_count": null,
   "id": "e733aeed-f18b-4443-9b5a-3bc102d4d3db",
   "metadata": {},
   "outputs": [],
   "source": []
  }
 ],
 "metadata": {
  "kernelspec": {
   "display_name": "Python [conda env:gpu_env]",
   "language": "python",
   "name": "conda-env-gpu_env-py"
  },
  "language_info": {
   "codemirror_mode": {
    "name": "ipython",
    "version": 3
   },
   "file_extension": ".py",
   "mimetype": "text/x-python",
   "name": "python",
   "nbconvert_exporter": "python",
   "pygments_lexer": "ipython3",
   "version": "3.10.16"
  }
 },
 "nbformat": 4,
 "nbformat_minor": 5
}
